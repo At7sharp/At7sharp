{
  "nbformat": 4,
  "nbformat_minor": 0,
  "metadata": {
    "kernelspec": {
      "name": "python3",
      "display_name": "Python 3.9.1 64-bit"
    },
    "language_info": {
      "codemirror_mode": {
        "name": "ipython",
        "version": 3
      },
      "file_extension": ".py",
      "mimetype": "text/x-python",
      "name": "python",
      "nbconvert_exporter": "python",
      "pygments_lexer": "ipython3",
      "version": "3.9.1"
    },
    "interpreter": {
      "hash": "aee8b7b246df8f9039afb4144a1f6fd8d2ca17a180786b69acc140d282b71a49"
    },
    "colab": {
      "name": "vk_ecomm_analytics.ipynb",
      "provenance": [],
      "collapsed_sections": []
    }
  },
  "cells": [
    {
      "cell_type": "markdown",
      "metadata": {
        "id": "JZR0hs6u9cG6"
      },
      "source": [
        "Есть данные с бразильского маркетплейса. Они лежат в ClickHouse на удаленном сервере. Чтобы получить к ним доступ, необходимо заменить переменные `user` и `password` на те, что передал HR, и передать запрос строкой в функцию ниже. \n",
        "\n",
        "Таблицы:\n",
        "* vk.orders\n",
        "* vk.products\n",
        "* vk.customers\n",
        "\n",
        "Для получения описания столбцов можно использовать [DESCRIBE TABLE](https://clickhouse.tech/docs/ru/sql-reference/statements/misc/#misc-describe-table)\n",
        "ClickHouse – колоночная база данных для хранения широких денормализованных таблиц. Поскольку у нас в день пишется в таблицу легко пишется >10кк строк, с ними необходимо работать максимально аккуратно. Поэтому введем следующие ограничения:\n",
        "* Никаких SELECT *\n",
        "* Максимально агрегировать данные в самом ClickHouse\n",
        "\n",
        "Полезный референс по функциям [тут](https://clickhouse.tech/docs/ru/sql-reference/aggregate-functions/reference/).\n",
        "\n",
        "Необходимо провести анализ покупок. Можно использовать любые данные и любые разрезы. Задание творческое, поэтому лучше всего ограничить себя по времени, чтобы не слишком зарываться.\n",
        "Оформить в виде *.ipynb максимально просто, чтобы любой менеджер мог его понять."
      ]
    },
    {
      "cell_type": "code",
      "metadata": {
        "id": "NIkEiw2_9cHC"
      },
      "source": [
        "\n",
        "user = 'jolly_hawking'\n",
        "password = 'q6RuVGAk8nVEe09q'\n",
        "\n",
        "import requests\n",
        "import pandas as pd\n",
        "import numpy as np\n",
        "from io import StringIO\n",
        "from requests.auth import HTTPBasicAuth\n",
        "\n",
        "import matplotlib.pyplot as plt\n",
        "import seaborn as sns\n",
        "\n",
        "def get_df(query: str, user: str = user, password: str = password) -> pd.DataFrame:\n",
        "    ''''''\n",
        "    resp = requests.post(\n",
        "        'https://clickhouse.kkmagician.com/', \n",
        "        data=(query + \" FORMAT TSVWithNames\").encode('utf-8'), \n",
        "        auth=HTTPBasicAuth(user, password)\n",
        "    )\n",
        "\n",
        "    if resp.status_code == 200:\n",
        "        df = pd.read_csv(StringIO(resp.text), sep='\\t')\n",
        "        return df\n",
        "    else:\n",
        "        raise ValueError(resp.text)"
      ],
      "execution_count": null,
      "outputs": []
    },
    {
      "cell_type": "markdown",
      "metadata": {
        "id": "noOJb3yg9cHE"
      },
      "source": [
        "## Описание таблиц"
      ]
    },
    {
      "cell_type": "code",
      "metadata": {
        "id": "3w51U4239cHG"
      },
      "source": [
        "products = get_df('describe vk.products')"
      ],
      "execution_count": null,
      "outputs": []
    },
    {
      "cell_type": "code",
      "metadata": {
        "id": "6kGeK0TpF5Cv",
        "colab": {
          "base_uri": "https://localhost:8080/",
          "height": 260
        },
        "outputId": "6c27346c-e0cc-4d75-c33e-33e1246d4f4c"
      },
      "source": [
        "#@title\n",
        "# Выборка покупателей по штатам\n",
        "customer_state = get_df(\"\"\"\n",
        "\n",
        "SELECT\n",
        "    customer_state,\n",
        "    count(DISTINCT customer_id) as customers\n",
        "FROM vk.customers\n",
        "GROUP BY customer_state\n",
        "Order by customers DESC\n",
        "LIMIT 100\n",
        "\n",
        "\"\"\")\n",
        "customer_state.head()\n",
        "\n",
        "# Загрузка данных о населении штатов Бразилии\n",
        "states_path = 'https://raw.githubusercontent.com/At7sharp/projects/7bbe0a9ed9e13472932236f00fd92d69aa3b04d5/states.csv'\n",
        "states_pop = pd.read_csv(states_path, sep=',')\n",
        "state_rate = pd.merge(customer_state, states_pop, how='left', left_on='customer_state', right_on='UF')\n",
        "state_rate = state_rate[['customer_state', 'customers', 'Population']]\n",
        "state_rate['state_coverage'] = state_rate.customers / state_rate.Population\n",
        "state_rate.sort_values(by='state_coverage', ascending=False, ignore_index=True, inplace=True)\n",
        "\n",
        "plt.figure(figsize=(10,3))\n",
        "sns.set_color_codes(\"pastel\")\n",
        "plot_0 = sns.barplot(x=state_rate.customer_state, y=state_rate.state_coverage, color='b')\n",
        "plot_0.set_title ('Доля покупателей в количестве жителей штата', fontsize=16)\n",
        "plot_0.set_xlabel('Штат')\n",
        "plot_0.set_ylabel('Доля покупателей')\n",
        "print('')"
      ],
      "execution_count": null,
      "outputs": [
        {
          "output_type": "stream",
          "name": "stdout",
          "text": [
            "\n"
          ]
        },
        {
          "output_type": "display_data",
          "data": {
            "image/png": "[encoded data removed]",
            "text/plain": [
              "<Figure size 720x216 with 1 Axes>"
            ]
          },
          "metadata": {
            "needs_background": "light"
          }
        }
      ]
    },
    {
      "cell_type": "markdown",
      "metadata": {
        "id": "0HVcOud8Oc48"
      },
      "source": [
        "# Диагностика данных"
      ]
    },
    {
      "cell_type": "code",
      "metadata": {
        "colab": {
          "base_uri": "https://localhost:8080/",
          "height": 467
        },
        "id": "IBJTwfS2PDqV",
        "outputId": "311fa72e-d1e3-4328-fce6-61da312fa56f"
      },
      "source": [
        "#@title\n",
        "print('Количество записей о покупателях / количество уникальных:')\n",
        "display(\n",
        "    get_df(\"\"\"\n",
        "            SELECT\n",
        "              count(customer_id) AS customers,\n",
        "              count(DISTINCT customer_id) AS uniq_customers\n",
        "            FROM vk.customers\n",
        "            LIMIT 100\n",
        "    \"\"\"))\n",
        "print('')\n",
        "print('')\n",
        "\n",
        "print('Ассортимент товаров:')\n",
        "display(\n",
        "    get_df(\"\"\"\n",
        "            SELECT\n",
        "              count (distinct product_id) AS total_products,\n",
        "              count (distinct product_category_name) AS total_categories\n",
        "            FROM vk.products\n",
        "            LIMIT 100\n",
        "    \"\"\"))\n",
        "print('')\n",
        "print('')\n",
        "\n",
        "print('Количество заказов:')\n",
        "display(\n",
        "    get_df(\"\"\"\n",
        "            SELECT \n",
        "              count(DISTINCT order_id) AS orders\n",
        "            FROM vk.orders\n",
        "            LIMIT 100\n",
        "    \"\"\"))\n",
        "print('')\n",
        "print('')\n",
        "\n",
        "print('Временной интервал заказов для анализа:')\n",
        "display(\n",
        "    get_df(\"\"\"\n",
        "            SELECT \n",
        "              min(order_purchase_timestamp) AS start_of_period,\n",
        "              max(order_purchase_timestamp) AS end_of_period\n",
        "            FROM vk.orders\n",
        "    \"\"\"))\n",
        "print('')"
      ],
      "execution_count": null,
      "outputs": [
        {
          "output_type": "stream",
          "name": "stdout",
          "text": [
            "Количество записей о покупателях / количество уникальных:\n"
          ]
        },
        {
          "output_type": "display_data",
          "data": {
            "text/html": [
              "<div>\n",
              "<style scoped>\n",
              "    .dataframe tbody tr th:only-of-type {\n",
              "        vertical-align: middle;\n",
              "    }\n",
              "\n",
              "    .dataframe tbody tr th {\n",
              "        vertical-align: top;\n",
              "    }\n",
              "\n",
              "    .dataframe thead th {\n",
              "        text-align: right;\n",
              "    }\n",
              "</style>\n",
              "<table border=\"1\" class=\"dataframe\">\n",
              "  <thead>\n",
              "    <tr style=\"text-align: right;\">\n",
              "      <th></th>\n",
              "      <th>customers</th>\n",
              "      <th>uniq_customers</th>\n",
              "    </tr>\n",
              "  </thead>\n",
              "  <tbody>\n",
              "    <tr>\n",
              "      <th>0</th>\n",
              "      <td>96096</td>\n",
              "      <td>96096</td>\n",
              "    </tr>\n",
              "  </tbody>\n",
              "</table>\n",
              "</div>"
            ],
            "text/plain": [
              "   customers  uniq_customers\n",
              "0      96096           96096"
            ]
          },
          "metadata": {}
        },
        {
          "output_type": "stream",
          "name": "stdout",
          "text": [
            "\n",
            "\n",
            "Ассортимент товаров:\n"
          ]
        },
        {
          "output_type": "display_data",
          "data": {
            "text/html": [
              "<div>\n",
              "<style scoped>\n",
              "    .dataframe tbody tr th:only-of-type {\n",
              "        vertical-align: middle;\n",
              "    }\n",
              "\n",
              "    .dataframe tbody tr th {\n",
              "        vertical-align: top;\n",
              "    }\n",
              "\n",
              "    .dataframe thead th {\n",
              "        text-align: right;\n",
              "    }\n",
              "</style>\n",
              "<table border=\"1\" class=\"dataframe\">\n",
              "  <thead>\n",
              "    <tr style=\"text-align: right;\">\n",
              "      <th></th>\n",
              "      <th>total_products</th>\n",
              "      <th>total_categories</th>\n",
              "    </tr>\n",
              "  </thead>\n",
              "  <tbody>\n",
              "    <tr>\n",
              "      <th>0</th>\n",
              "      <td>32328</td>\n",
              "      <td>71</td>\n",
              "    </tr>\n",
              "  </tbody>\n",
              "</table>\n",
              "</div>"
            ],
            "text/plain": [
              "   total_products  total_categories\n",
              "0           32328                71"
            ]
          },
          "metadata": {}
        },
        {
          "output_type": "stream",
          "name": "stdout",
          "text": [
            "\n",
            "\n",
            "Количество заказов:\n"
          ]
        },
        {
          "output_type": "display_data",
          "data": {
            "text/html": [
              "<div>\n",
              "<style scoped>\n",
              "    .dataframe tbody tr th:only-of-type {\n",
              "        vertical-align: middle;\n",
              "    }\n",
              "\n",
              "    .dataframe tbody tr th {\n",
              "        vertical-align: top;\n",
              "    }\n",
              "\n",
              "    .dataframe thead th {\n",
              "        text-align: right;\n",
              "    }\n",
              "</style>\n",
              "<table border=\"1\" class=\"dataframe\">\n",
              "  <thead>\n",
              "    <tr style=\"text-align: right;\">\n",
              "      <th></th>\n",
              "      <th>orders</th>\n",
              "    </tr>\n",
              "  </thead>\n",
              "  <tbody>\n",
              "    <tr>\n",
              "      <th>0</th>\n",
              "      <td>98666</td>\n",
              "    </tr>\n",
              "  </tbody>\n",
              "</table>\n",
              "</div>"
            ],
            "text/plain": [
              "   orders\n",
              "0   98666"
            ]
          },
          "metadata": {}
        },
        {
          "output_type": "stream",
          "name": "stdout",
          "text": [
            "\n",
            "\n",
            "Временной интервал заказов для анализа:\n"
          ]
        },
        {
          "output_type": "display_data",
          "data": {
            "text/html": [
              "<div>\n",
              "<style scoped>\n",
              "    .dataframe tbody tr th:only-of-type {\n",
              "        vertical-align: middle;\n",
              "    }\n",
              "\n",
              "    .dataframe tbody tr th {\n",
              "        vertical-align: top;\n",
              "    }\n",
              "\n",
              "    .dataframe thead th {\n",
              "        text-align: right;\n",
              "    }\n",
              "</style>\n",
              "<table border=\"1\" class=\"dataframe\">\n",
              "  <thead>\n",
              "    <tr style=\"text-align: right;\">\n",
              "      <th></th>\n",
              "      <th>start_of_period</th>\n",
              "      <th>end_of_period</th>\n",
              "    </tr>\n",
              "  </thead>\n",
              "  <tbody>\n",
              "    <tr>\n",
              "      <th>0</th>\n",
              "      <td>2016-09-04 21:15:19</td>\n",
              "      <td>2018-09-03 09:06:57</td>\n",
              "    </tr>\n",
              "  </tbody>\n",
              "</table>\n",
              "</div>"
            ],
            "text/plain": [
              "       start_of_period        end_of_period\n",
              "0  2016-09-04 21:15:19  2018-09-03 09:06:57"
            ]
          },
          "metadata": {}
        },
        {
          "output_type": "stream",
          "name": "stdout",
          "text": [
            "\n"
          ]
        }
      ]
    },
    {
      "cell_type": "markdown",
      "metadata": {
        "id": "jZIMd8GfqbTG"
      },
      "source": [
        "# Как пользователи делают заказы"
      ]
    },
    {
      "cell_type": "code",
      "metadata": {
        "id": "wfOAEr2TY9e3",
        "colab": {
          "base_uri": "https://localhost:8080/",
          "height": 648
        },
        "outputId": "0b7155b5-34e5-4222-e2b4-5bef2826feaa"
      },
      "source": [
        "# @title  Распределение числа пользователей по количествую заказов\n",
        "orders_by_customer = get_df(\"\"\"\n",
        "\n",
        "SELECT\n",
        "    orders_num,\n",
        "    count(customer_id) AS customers_num\n",
        "\n",
        "FROM (\n",
        "    \n",
        "    SELECT\n",
        "        customer_id,\n",
        "        count(DISTINCT order_id) AS orders_num\n",
        "    FROM vk.orders\n",
        "    WHERE order_status = 'delivered'\n",
        "    GROUP BY customer_id\n",
        ")\n",
        "\n",
        "GROUP BY orders_num\n",
        "\n",
        "\"\"\")\n",
        "\n",
        "total_customers = 96096\n",
        "orders_by_customer['part'] = orders_by_customer.customers_num / total_customers\n",
        "display(orders_by_customer.sort_values('customers_num', ascending=False))\n",
        "\n",
        "plt.figure(figsize=(10,5))\n",
        "plot = sns.barplot(data=orders_by_customer, y='part', x='orders_num')\n",
        "plot.set_ylabel(\"Доля покупателей\", fontsize=12)\n",
        "plot.set_xlabel(\"Количество доставленных заказов\", fontsize=12);"
      ],
      "execution_count": null,
      "outputs": [
        {
          "output_type": "display_data",
          "data": {
            "text/html": [
              "<div>\n",
              "<style scoped>\n",
              "    .dataframe tbody tr th:only-of-type {\n",
              "        vertical-align: middle;\n",
              "    }\n",
              "\n",
              "    .dataframe tbody tr th {\n",
              "        vertical-align: top;\n",
              "    }\n",
              "\n",
              "    .dataframe thead th {\n",
              "        text-align: right;\n",
              "    }\n",
              "</style>\n",
              "<table border=\"1\" class=\"dataframe\">\n",
              "  <thead>\n",
              "    <tr style=\"text-align: right;\">\n",
              "      <th></th>\n",
              "      <th>orders_num</th>\n",
              "      <th>customers_num</th>\n",
              "      <th>part</th>\n",
              "    </tr>\n",
              "  </thead>\n",
              "  <tbody>\n",
              "    <tr>\n",
              "      <th>4</th>\n",
              "      <td>1</td>\n",
              "      <td>90557</td>\n",
              "      <td>0.942360</td>\n",
              "    </tr>\n",
              "    <tr>\n",
              "      <th>2</th>\n",
              "      <td>2</td>\n",
              "      <td>2573</td>\n",
              "      <td>0.026775</td>\n",
              "    </tr>\n",
              "    <tr>\n",
              "      <th>1</th>\n",
              "      <td>3</td>\n",
              "      <td>181</td>\n",
              "      <td>0.001884</td>\n",
              "    </tr>\n",
              "    <tr>\n",
              "      <th>0</th>\n",
              "      <td>4</td>\n",
              "      <td>28</td>\n",
              "      <td>0.000291</td>\n",
              "    </tr>\n",
              "    <tr>\n",
              "      <th>3</th>\n",
              "      <td>5</td>\n",
              "      <td>9</td>\n",
              "      <td>0.000094</td>\n",
              "    </tr>\n",
              "    <tr>\n",
              "      <th>5</th>\n",
              "      <td>6</td>\n",
              "      <td>5</td>\n",
              "      <td>0.000052</td>\n",
              "    </tr>\n",
              "    <tr>\n",
              "      <th>6</th>\n",
              "      <td>7</td>\n",
              "      <td>3</td>\n",
              "      <td>0.000031</td>\n",
              "    </tr>\n",
              "    <tr>\n",
              "      <th>7</th>\n",
              "      <td>9</td>\n",
              "      <td>1</td>\n",
              "      <td>0.000010</td>\n",
              "    </tr>\n",
              "    <tr>\n",
              "      <th>8</th>\n",
              "      <td>15</td>\n",
              "      <td>1</td>\n",
              "      <td>0.000010</td>\n",
              "    </tr>\n",
              "  </tbody>\n",
              "</table>\n",
              "</div>"
            ],
            "text/plain": [
              "   orders_num  customers_num      part\n",
              "4           1          90557  0.942360\n",
              "2           2           2573  0.026775\n",
              "1           3            181  0.001884\n",
              "0           4             28  0.000291\n",
              "3           5              9  0.000094\n",
              "5           6              5  0.000052\n",
              "6           7              3  0.000031\n",
              "7           9              1  0.000010\n",
              "8          15              1  0.000010"
            ]
          },
          "metadata": {}
        },
        {
          "output_type": "display_data",
          "data": {
            "image/png": "[encoded data removed]",
            "text/plain": [
              "<Figure size 720x360 with 1 Axes>"
            ]
          },
          "metadata": {
            "needs_background": "light"
          }
        }
      ]
    },
    {
      "cell_type": "markdown",
      "metadata": {
        "id": "Nw_Tkov3pjTG"
      },
      "source": [
        "Видим, что основная часть клиентов сделала только один заказ."
      ]
    },
    {
      "cell_type": "code",
      "metadata": {
        "id": "1v-LixJAscSf",
        "colab": {
          "base_uri": "https://localhost:8080/",
          "height": 562
        },
        "cellView": "form",
        "outputId": "8e8c2de7-ae30-41c1-8e7e-886119fa5108"
      },
      "source": [
        "#@title Ассортимент в заказах\n",
        "products_in_cart = get_df(\"\"\"\n",
        "SELECT\n",
        "    count(order_id) AS orders,\n",
        "    uniq_products_sum\n",
        "FROM (\n",
        "    SELECT\n",
        "        order_id,\n",
        "        count(DISTINCT product_id) AS uniq_products_sum\n",
        "    FROM vk.orders\n",
        "    WHERE order_status = 'delivered'\n",
        "    GROUP BY order_id\n",
        "    ORDER BY uniq_products_sum DESC\n",
        "    )\n",
        "GROUP BY uniq_products_sum\n",
        "ORDER BY uniq_products_sum DESC\n",
        "\"\"\")\n",
        "\n",
        "display(products_in_cart.sort_values('orders', ascending=False))\n",
        "\n",
        "plot_2 = sns.barplot(data=products_in_cart, x='uniq_products_sum', y='orders')\n",
        "plot_2.set_ylabel(\"Количество заказов\", fontsize=12)\n",
        "plot_2.set_xlabel(\"Количество уникальных позиций в заказе\", fontsize=12);"
      ],
      "execution_count": null,
      "outputs": [
        {
          "output_type": "display_data",
          "data": {
            "text/html": [
              "<div>\n",
              "<style scoped>\n",
              "    .dataframe tbody tr th:only-of-type {\n",
              "        vertical-align: middle;\n",
              "    }\n",
              "\n",
              "    .dataframe tbody tr th {\n",
              "        vertical-align: top;\n",
              "    }\n",
              "\n",
              "    .dataframe thead th {\n",
              "        text-align: right;\n",
              "    }\n",
              "</style>\n",
              "<table border=\"1\" class=\"dataframe\">\n",
              "  <thead>\n",
              "    <tr style=\"text-align: right;\">\n",
              "      <th></th>\n",
              "      <th>orders</th>\n",
              "      <th>uniq_products_sum</th>\n",
              "    </tr>\n",
              "  </thead>\n",
              "  <tbody>\n",
              "    <tr>\n",
              "      <th>7</th>\n",
              "      <td>93281</td>\n",
              "      <td>1</td>\n",
              "    </tr>\n",
              "    <tr>\n",
              "      <th>6</th>\n",
              "      <td>2808</td>\n",
              "      <td>2</td>\n",
              "    </tr>\n",
              "    <tr>\n",
              "      <th>5</th>\n",
              "      <td>298</td>\n",
              "      <td>3</td>\n",
              "    </tr>\n",
              "    <tr>\n",
              "      <th>4</th>\n",
              "      <td>69</td>\n",
              "      <td>4</td>\n",
              "    </tr>\n",
              "    <tr>\n",
              "      <th>2</th>\n",
              "      <td>10</td>\n",
              "      <td>6</td>\n",
              "    </tr>\n",
              "    <tr>\n",
              "      <th>3</th>\n",
              "      <td>8</td>\n",
              "      <td>5</td>\n",
              "    </tr>\n",
              "    <tr>\n",
              "      <th>1</th>\n",
              "      <td>3</td>\n",
              "      <td>7</td>\n",
              "    </tr>\n",
              "    <tr>\n",
              "      <th>0</th>\n",
              "      <td>1</td>\n",
              "      <td>8</td>\n",
              "    </tr>\n",
              "  </tbody>\n",
              "</table>\n",
              "</div>"
            ],
            "text/plain": [
              "   orders  uniq_products_sum\n",
              "7   93281                  1\n",
              "6    2808                  2\n",
              "5     298                  3\n",
              "4      69                  4\n",
              "2      10                  6\n",
              "3       8                  5\n",
              "1       3                  7\n",
              "0       1                  8"
            ]
          },
          "metadata": {}
        },
        {
          "output_type": "display_data",
          "data": {
            "image/png": "[encoded data removed]",
            "text/plain": [
              "<Figure size 432x288 with 1 Axes>"
            ]
          },
          "metadata": {
            "needs_background": "light"
          }
        }
      ]
    },
    {
      "cell_type": "code",
      "metadata": {
        "id": "TcIj7_KexQ5W",
        "colab": {
          "base_uri": "https://localhost:8080/",
          "height": 375
        },
        "cellView": "form",
        "outputId": "c424aeaf-4138-47c2-cc7b-27f2446fd6f0"
      },
      "source": [
        "#@title Популярность категорий продуктов\n",
        "\n",
        "category_total = get_df(\"\"\"\n",
        "\n",
        "SELECT \n",
        "    product_category_name AS category,\n",
        "    sum(products_num) AS category_quantity\n",
        "    \n",
        "FROM\n",
        "    (SELECT\n",
        "        product_id,\n",
        "        count(order_id) AS products_num\n",
        "    FROM vk.orders\n",
        "    WHERE order_status = 'delivered'\n",
        "    GROUP BY product_id\n",
        "    ORDER BY products_num DESC) AS l\n",
        "    \n",
        "JOIN\n",
        "    vk.products as r\n",
        "    \n",
        "ON l.product_id=r.product_id\n",
        "\n",
        "GROUP BY category\n",
        "ORDER BY category_quantity DESC\n",
        "LIMIT 10\n",
        "\"\"\")\n",
        "\n",
        "\n",
        "plt.figure(figsize=(10,5))\n",
        "plot_2 = sns.barplot(data=category_total, x='category_quantity', y='category')\n",
        "plot_2.set_title('ТОП-10 Популярных категорий', fontsize=18)\n",
        "plot_2.set_ylabel(\"Категория\", fontsize=12)\n",
        "plot_2.set_xlabel(\"Количество проданных товаров\", fontsize=12)"
      ],
      "execution_count": null,
      "outputs": [
        {
          "output_type": "execute_result",
          "data": {
            "text/plain": [
              "Text(0.5, 0, 'Количество проданных товаров')"
            ]
          },
          "metadata": {},
          "execution_count": 7
        },
        {
          "output_type": "display_data",
          "data": {
            "image/png": "[encoded data removed]",
            "text/plain": [
              "<Figure size 720x360 with 1 Axes>"
            ]
          },
          "metadata": {
            "needs_background": "light"
          }
        }
      ]
    },
    {
      "cell_type": "code",
      "metadata": {
        "cellView": "form",
        "id": "zwz8z8xbZEyX"
      },
      "source": [
        "#@title\n",
        "checks = get_df(\"\"\"\n",
        "SELECT\n",
        "    order_id,\n",
        "    sum(price) AS check_sum\n",
        "FROM vk.orders\n",
        "WHERE order_status = 'delivered'\n",
        "GROUP BY order_id\n",
        "\"\"\")"
      ],
      "execution_count": null,
      "outputs": []
    },
    {
      "cell_type": "markdown",
      "metadata": {
        "id": "6fKTJn5WsK6e"
      },
      "source": [
        "# Посмотрим на сумму чеков:"
      ]
    },
    {
      "cell_type": "code",
      "metadata": {
        "colab": {
          "base_uri": "https://localhost:8080/",
          "height": 369
        },
        "cellView": "form",
        "id": "XNcQoym4rLQ9",
        "outputId": "eb9cbaf5-7b97-4932-c0dc-0d097261e778"
      },
      "source": [
        "#@title\n",
        "check_1 = sns.displot(checks.check_sum, bins=1000)"
      ],
      "execution_count": null,
      "outputs": [
        {
          "output_type": "display_data",
          "data": {
            "image/png": "[encoded data removed]",
            "text/plain": [
              "<Figure size 360x360 with 1 Axes>"
            ]
          },
          "metadata": {
            "needs_background": "light"
          }
        }
      ]
    },
    {
      "cell_type": "markdown",
      "metadata": {
        "id": "7StiDZzhsgI0"
      },
      "source": [
        "Укрупним интересующий диапазон и оценим с помощью боксплота распределние стоимости заказов"
      ]
    },
    {
      "cell_type": "code",
      "metadata": {
        "colab": {
          "base_uri": "https://localhost:8080/",
          "height": 387
        },
        "id": "S_qUkyPMoZl6",
        "outputId": "16da4b81-a101-40e6-938b-7c41fe94baaa"
      },
      "source": [
        "#@title\n",
        "sns.displot(checks.check_sum, bins=1000).set(xlim=(-1, 400))"
      ],
      "execution_count": null,
      "outputs": [
        {
          "output_type": "execute_result",
          "data": {
            "text/plain": [
              "<seaborn.axisgrid.FacetGrid at 0x7f2d865a8d90>"
            ]
          },
          "metadata": {},
          "execution_count": 10
        },
        {
          "output_type": "display_data",
          "data": {
            "image/png": "[encoded data removed]",
            "text/plain": [
              "<Figure size 360x360 with 1 Axes>"
            ]
          },
          "metadata": {
            "needs_background": "light"
          }
        }
      ]
    },
    {
      "cell_type": "code",
      "metadata": {
        "colab": {
          "base_uri": "https://localhost:8080/",
          "height": 357
        },
        "cellView": "form",
        "id": "W03Tsn9_fNhw",
        "outputId": "704a2204-8044-47de-c546-a93af33eb62e"
      },
      "source": [
        "#@title\n",
        "check_plot = sns.boxplot(checks.check_sum)\n",
        "check_plot.set(xlim=(-1, 400))\n",
        "check_plot.set_xlabel(\"Сумма чека\", fontsize=14)"
      ],
      "execution_count": null,
      "outputs": [
        {
          "output_type": "stream",
          "name": "stderr",
          "text": [
            "/usr/local/lib/python3.7/dist-packages/seaborn/_decorators.py:43: FutureWarning: Pass the following variable as a keyword arg: x. From version 0.12, the only valid positional argument will be `data`, and passing other arguments without an explicit keyword will result in an error or misinterpretation.\n",
            "  FutureWarning\n"
          ]
        },
        {
          "output_type": "execute_result",
          "data": {
            "text/plain": [
              "Text(0.5, 0, 'Сумма чека')"
            ]
          },
          "metadata": {},
          "execution_count": 11
        },
        {
          "output_type": "display_data",
          "data": {
            "image/png": "[encoded data removed]",
            "text/plain": [
              "<Figure size 432x288 with 1 Axes>"
            ]
          },
          "metadata": {
            "needs_background": "light"
          }
        }
      ]
    },
    {
      "cell_type": "markdown",
      "metadata": {
        "id": "q9ihil0uwfKn"
      },
      "source": [
        "## Практически все наблюдения укладываются между 0 и 300 бразильскими рублями, однако выбросов тоже немало и нужно бы оценить какую долю выручки приносят крупные чеки."
      ]
    },
    {
      "cell_type": "code",
      "metadata": {
        "colab": {
          "base_uri": "https://localhost:8080/"
        },
        "id": "yLogl9S_v6C7",
        "outputId": "5ff5bde8-2599-4efa-fd93-572dbfbbb6ca"
      },
      "source": [
        "#@title Суммарная выручка за период\n",
        "\n",
        "RV = get_df(\"\"\" SELECT\n",
        "                sum(price) AS rv\n",
        "    FROM vk.orders\n",
        "    WHERE order_status = 'delivered'\n",
        "    \"\"\")\n",
        "\n",
        "RV\n",
        "total_RV = RV.iloc[0]['rv']\n",
        "total_RV"
      ],
      "execution_count": null,
      "outputs": [
        {
          "output_type": "execute_result",
          "data": {
            "text/plain": [
              "13221498.112056853"
            ]
          },
          "metadata": {},
          "execution_count": 12
        }
      ]
    },
    {
      "cell_type": "code",
      "metadata": {
        "colab": {
          "base_uri": "https://localhost:8080/"
        },
        "cellView": "form",
        "id": "gT5yR0qxzGOE",
        "outputId": "f9e43aec-1c73-4f82-db6d-bde14d0e693b"
      },
      "source": [
        "#@title Выручка за период в категории чеков до 300 рублей\n",
        "\n",
        "RV_under_300 = get_df(\"\"\" SELECT \n",
        "    sum(check_sum) AS rv\n",
        "FROM\n",
        "    (SELECT\n",
        "        order_id,\n",
        "        sum(price) AS check_sum\n",
        "    FROM vk.orders\n",
        "    WHERE order_status = 'delivered'\n",
        "    GROUP BY order_id)\n",
        "WHERE check_sum < 300\n",
        "    \"\"\")\n",
        "\n",
        "RV_small_checks= RV_under_300.iloc[0]['rv']\n",
        "RV_small_checks\n"
      ],
      "execution_count": null,
      "outputs": [
        {
          "output_type": "execute_result",
          "data": {
            "text/plain": [
              "8356033.535678983"
            ]
          },
          "metadata": {},
          "execution_count": 13
        }
      ]
    },
    {
      "cell_type": "code",
      "metadata": {
        "colab": {
          "base_uri": "https://localhost:8080/"
        },
        "id": "X2-TlmFd0X8Z",
        "outputId": "853778dd-6891-4b0a-caaa-ed3f6f7610ec"
      },
      "source": [
        "#@title Выручка за период в категории чеков более 300 рублей\n",
        "\n",
        "RV_above_300 = get_df(\"\"\" SELECT \n",
        "    sum(check_sum) AS rv\n",
        "FROM\n",
        "    (SELECT\n",
        "        order_id,\n",
        "        sum(price) AS check_sum\n",
        "    FROM vk.orders\n",
        "    WHERE order_status = 'delivered'\n",
        "    GROUP BY order_id)\n",
        "WHERE check_sum > 300\n",
        "    \"\"\")\n",
        "\n",
        "RV_big_cheсks= RV_above_300.iloc[0]['rv']\n",
        "RV_big_cheсks\n"
      ],
      "execution_count": null,
      "outputs": [
        {
          "output_type": "execute_result",
          "data": {
            "text/plain": [
              "4854364.576377869"
            ]
          },
          "metadata": {},
          "execution_count": 14
        }
      ]
    },
    {
      "cell_type": "code",
      "metadata": {
        "colab": {
          "base_uri": "https://localhost:8080/"
        },
        "cellView": "form",
        "id": "23D4DYke0qjZ",
        "outputId": "b578c9ee-13f0-45b1-c1e3-6f6261440c0e"
      },
      "source": [
        "#@title\n",
        "print('Выручка по чекам менее 300 руб - ', round(RV_small_checks/total_RV *100, 2), '%')\n",
        "print('Выручка по чекам более 300 руб - ', round(RV_big_cheсks/total_RV *100, 2), '%')"
      ],
      "execution_count": null,
      "outputs": [
        {
          "output_type": "stream",
          "name": "stdout",
          "text": [
            "Выручка по чекам менее 300 руб -  63.2 %\n",
            "Выручка по чекам более 300 руб -  36.72 %\n"
          ]
        }
      ]
    },
    {
      "cell_type": "markdown",
      "metadata": {
        "id": "F6stSLgn1jAk"
      },
      "source": [
        "Несмотря, на низкое количество дорогих покупок, этот \"длинных хвост\" приносит существенный вклад в Revenue."
      ]
    },
    {
      "cell_type": "markdown",
      "metadata": {
        "id": "4yEtmVxi2IKK"
      },
      "source": [
        "Посмотрим на динамику заказов во времени"
      ]
    },
    {
      "cell_type": "code",
      "metadata": {
        "colab": {
          "base_uri": "https://localhost:8080/"
        },
        "id": "iUv2Ovd-9350",
        "outputId": "18cc8f5f-c123-4654-d71e-cdf2cb7f7025"
      },
      "source": [
        "orders_by_date = get_df(\"\"\"\n",
        "SELECT \n",
        "    count(distinct order_id) AS orders_count,\n",
        "    toStartOfDay(order_purchase_timestamp) AS date\n",
        "FROM vk.orders\n",
        "WHERE order_status = 'delivered'\n",
        "GROUP BY date\n",
        "\"\"\")\n",
        "\n",
        "orders_by_date.date = pd.to_datetime(orders_by_date.date)\n",
        "orders_by_date.info()"
      ],
      "execution_count": null,
      "outputs": [
        {
          "output_type": "stream",
          "name": "stdout",
          "text": [
            "<class 'pandas.core.frame.DataFrame'>\n",
            "RangeIndex: 612 entries, 0 to 611\n",
            "Data columns (total 2 columns):\n",
            " #   Column        Non-Null Count  Dtype         \n",
            "---  ------        --------------  -----         \n",
            " 0   orders_count  612 non-null    int64         \n",
            " 1   date          612 non-null    datetime64[ns]\n",
            "dtypes: datetime64[ns](1), int64(1)\n",
            "memory usage: 9.7 KB\n"
          ]
        }
      ]
    },
    {
      "cell_type": "code",
      "metadata": {
        "colab": {
          "base_uri": "https://localhost:8080/",
          "height": 348
        },
        "id": "X8ynqxvDAIn8",
        "outputId": "19239be4-e6dc-48cc-8dee-81385115f163"
      },
      "source": [
        "plt.figure(figsize=(20, 5))\n",
        "import matplotlib.ticker as ticker\n",
        "dateline = sns.lineplot(data=orders_by_date, x='date', y='orders_count')\n",
        "\n",
        "dateline.set_title('Заказы по датам', fontsize=18)\n",
        "dateline.set_ylabel(\"Количество заказов\", fontsize=12)\n",
        "dateline.xaxis.set_major_locator(ticker.MultipleLocator(50))"
      ],
      "execution_count": null,
      "outputs": [
        {
          "output_type": "display_data",
          "data": {
            "image/png": "[encoded data removed]",
            "text/plain": [
              "<Figure size 1440x360 with 1 Axes>"
            ]
          },
          "metadata": {
            "needs_background": "light"
          }
        }
      ]
    },
    {
      "cell_type": "code",
      "metadata": {
        "colab": {
          "base_uri": "https://localhost:8080/",
          "height": 354
        },
        "id": "m14fk6ak1_tp",
        "outputId": "e11b01e0-6f17-41a0-f7fe-dc63ebfa3cac"
      },
      "source": [
        "plt.figure(figsize=(20, 5))\n",
        "import matplotlib.ticker as ticker\n",
        "datequery = orders_by_date.query('(date > \"2017-10-01\") and (date < \"2017-10-15\")')\n",
        "dateline = sns.lineplot(data=datequery,\n",
        "                        x='date',\n",
        "                        y='orders_count')\\\n",
        "               \n",
        "dateline.set(ylim=(0, 300))\n",
        "dateline.set_title('Заказы по датам', fontsize=18)\n",
        "dateline.set_ylabel(\"Количество заказов\", fontsize=12)\n",
        "dateline.xaxis.set_major_locator(ticker.MultipleLocator(1))"
      ],
      "execution_count": null,
      "outputs": [
        {
          "output_type": "display_data",
          "data": {
            "image/png": "[encoded data removed]",
            "text/plain": [
              "<Figure size 1440x360 with 1 Axes>"
            ]
          },
          "metadata": {
            "needs_background": "light"
          }
        }
      ]
    },
    {
      "cell_type": "markdown",
      "metadata": {
        "id": "lNOD5gICSZ8B"
      },
      "source": [
        "2017-11-24 Аномальный скачок по выполненым заказам. Вероятно, как реузльтат рекламной кампании или маркетинговой акции."
      ]
    },
    {
      "cell_type": "code",
      "metadata": {
        "colab": {
          "base_uri": "https://localhost:8080/",
          "height": 574
        },
        "id": "L5B2bTZpqGBx",
        "outputId": "ed0610bd-6719-49a0-f7f3-3e912c272683"
      },
      "source": [
        "get_df(\"\"\"\n",
        "    describe vk.orders\n",
        "    \"\"\")"
      ],
      "execution_count": null,
      "outputs": [
        {
          "output_type": "execute_result",
          "data": {
            "text/html": [
              "<div>\n",
              "<style scoped>\n",
              "    .dataframe tbody tr th:only-of-type {\n",
              "        vertical-align: middle;\n",
              "    }\n",
              "\n",
              "    .dataframe tbody tr th {\n",
              "        vertical-align: top;\n",
              "    }\n",
              "\n",
              "    .dataframe thead th {\n",
              "        text-align: right;\n",
              "    }\n",
              "</style>\n",
              "<table border=\"1\" class=\"dataframe\">\n",
              "  <thead>\n",
              "    <tr style=\"text-align: right;\">\n",
              "      <th></th>\n",
              "      <th>name</th>\n",
              "      <th>type</th>\n",
              "      <th>default_type</th>\n",
              "      <th>default_expression</th>\n",
              "      <th>comment</th>\n",
              "      <th>codec_expression</th>\n",
              "      <th>ttl_expression</th>\n",
              "    </tr>\n",
              "  </thead>\n",
              "  <tbody>\n",
              "    <tr>\n",
              "      <th>0</th>\n",
              "      <td>order_id</td>\n",
              "      <td>UInt64</td>\n",
              "      <td>NaN</td>\n",
              "      <td>NaN</td>\n",
              "      <td>NaN</td>\n",
              "      <td>NaN</td>\n",
              "      <td>NaN</td>\n",
              "    </tr>\n",
              "    <tr>\n",
              "      <th>1</th>\n",
              "      <td>order_status</td>\n",
              "      <td>LowCardinality(String)</td>\n",
              "      <td>NaN</td>\n",
              "      <td>NaN</td>\n",
              "      <td>Последний статус заказа (т.к. это история, бол...</td>\n",
              "      <td>NaN</td>\n",
              "      <td>NaN</td>\n",
              "    </tr>\n",
              "    <tr>\n",
              "      <th>2</th>\n",
              "      <td>order_purchase_timestamp</td>\n",
              "      <td>DateTime</td>\n",
              "      <td>NaN</td>\n",
              "      <td>NaN</td>\n",
              "      <td>Время, когда пользователь совершил заказ</td>\n",
              "      <td>NaN</td>\n",
              "      <td>NaN</td>\n",
              "    </tr>\n",
              "    <tr>\n",
              "      <th>3</th>\n",
              "      <td>order_approved_at</td>\n",
              "      <td>DateTime</td>\n",
              "      <td>NaN</td>\n",
              "      <td>NaN</td>\n",
              "      <td>Время, когда магазин подтвердил заказ</td>\n",
              "      <td>NaN</td>\n",
              "      <td>NaN</td>\n",
              "    </tr>\n",
              "    <tr>\n",
              "      <th>4</th>\n",
              "      <td>order_delivered_carrier_date</td>\n",
              "      <td>DateTime</td>\n",
              "      <td>NaN</td>\n",
              "      <td>NaN</td>\n",
              "      <td>Время, когда заказ был доставлен службой доставки</td>\n",
              "      <td>NaN</td>\n",
              "      <td>NaN</td>\n",
              "    </tr>\n",
              "    <tr>\n",
              "      <th>5</th>\n",
              "      <td>order_delivered_customer_date</td>\n",
              "      <td>DateTime</td>\n",
              "      <td>NaN</td>\n",
              "      <td>NaN</td>\n",
              "      <td>Время, когда доставка была подтверждена пользо...</td>\n",
              "      <td>NaN</td>\n",
              "      <td>NaN</td>\n",
              "    </tr>\n",
              "    <tr>\n",
              "      <th>6</th>\n",
              "      <td>order_estimated_delivery_date</td>\n",
              "      <td>DateTime</td>\n",
              "      <td>NaN</td>\n",
              "      <td>NaN</td>\n",
              "      <td>Оценка даты доставки заказа на момент его сове...</td>\n",
              "      <td>NaN</td>\n",
              "      <td>NaN</td>\n",
              "    </tr>\n",
              "    <tr>\n",
              "      <th>7</th>\n",
              "      <td>customer_id</td>\n",
              "      <td>UInt64</td>\n",
              "      <td>NaN</td>\n",
              "      <td>NaN</td>\n",
              "      <td>NaN</td>\n",
              "      <td>NaN</td>\n",
              "      <td>NaN</td>\n",
              "    </tr>\n",
              "    <tr>\n",
              "      <th>8</th>\n",
              "      <td>order_item_id</td>\n",
              "      <td>UInt16</td>\n",
              "      <td>NaN</td>\n",
              "      <td>NaN</td>\n",
              "      <td>Порядковый номер товара в заказе</td>\n",
              "      <td>NaN</td>\n",
              "      <td>NaN</td>\n",
              "    </tr>\n",
              "    <tr>\n",
              "      <th>9</th>\n",
              "      <td>product_id</td>\n",
              "      <td>UInt64</td>\n",
              "      <td>NaN</td>\n",
              "      <td>NaN</td>\n",
              "      <td>NaN</td>\n",
              "      <td>NaN</td>\n",
              "      <td>NaN</td>\n",
              "    </tr>\n",
              "    <tr>\n",
              "      <th>10</th>\n",
              "      <td>seller_id</td>\n",
              "      <td>UInt64</td>\n",
              "      <td>NaN</td>\n",
              "      <td>NaN</td>\n",
              "      <td>ID магазина</td>\n",
              "      <td>NaN</td>\n",
              "      <td>NaN</td>\n",
              "    </tr>\n",
              "    <tr>\n",
              "      <th>11</th>\n",
              "      <td>price</td>\n",
              "      <td>Float32</td>\n",
              "      <td>NaN</td>\n",
              "      <td>NaN</td>\n",
              "      <td>Стоимость товара в бразильских рублях</td>\n",
              "      <td>NaN</td>\n",
              "      <td>NaN</td>\n",
              "    </tr>\n",
              "  </tbody>\n",
              "</table>\n",
              "</div>"
            ],
            "text/plain": [
              "                             name  ... ttl_expression\n",
              "0                        order_id  ...            NaN\n",
              "1                    order_status  ...            NaN\n",
              "2        order_purchase_timestamp  ...            NaN\n",
              "3               order_approved_at  ...            NaN\n",
              "4    order_delivered_carrier_date  ...            NaN\n",
              "5   order_delivered_customer_date  ...            NaN\n",
              "6   order_estimated_delivery_date  ...            NaN\n",
              "7                     customer_id  ...            NaN\n",
              "8                   order_item_id  ...            NaN\n",
              "9                      product_id  ...            NaN\n",
              "10                      seller_id  ...            NaN\n",
              "11                          price  ...            NaN\n",
              "\n",
              "[12 rows x 7 columns]"
            ]
          },
          "metadata": {},
          "execution_count": 6
        }
      ]
    },
    {
      "cell_type": "code",
      "metadata": {
        "colab": {
          "base_uri": "https://localhost:8080/",
          "height": 80
        },
        "id": "_M5A5oBBpCWP",
        "outputId": "fe77447e-85be-47f9-b453-b353678c3c01"
      },
      "source": [
        "get_df(\n",
        "    \"\"\"\n",
        "      SELECT \n",
        "        sum(price),\n",
        "        avg(price)\n",
        "      FROM vk.orders\n",
        "      \n",
        "    \"\"\")"
      ],
      "execution_count": null,
      "outputs": [
        {
          "output_type": "execute_result",
          "data": {
            "text/html": [
              "<div>\n",
              "<style scoped>\n",
              "    .dataframe tbody tr th:only-of-type {\n",
              "        vertical-align: middle;\n",
              "    }\n",
              "\n",
              "    .dataframe tbody tr th {\n",
              "        vertical-align: top;\n",
              "    }\n",
              "\n",
              "    .dataframe thead th {\n",
              "        text-align: right;\n",
              "    }\n",
              "</style>\n",
              "<table border=\"1\" class=\"dataframe\">\n",
              "  <thead>\n",
              "    <tr style=\"text-align: right;\">\n",
              "      <th></th>\n",
              "      <th>sum(price)</th>\n",
              "      <th>avg(price)</th>\n",
              "    </tr>\n",
              "  </thead>\n",
              "  <tbody>\n",
              "    <tr>\n",
              "      <th>0</th>\n",
              "      <td>1.359164e+07</td>\n",
              "      <td>120.653739</td>\n",
              "    </tr>\n",
              "  </tbody>\n",
              "</table>\n",
              "</div>"
            ],
            "text/plain": [
              "     sum(price)  avg(price)\n",
              "0  1.359164e+07  120.653739"
            ]
          },
          "metadata": {},
          "execution_count": 20
        }
      ]
    },
    {
      "cell_type": "code",
      "metadata": {
        "colab": {
          "base_uri": "https://localhost:8080/",
          "height": 80
        },
        "id": "RMgYDx7upLpP",
        "outputId": "a4e0aa19-4792-4a7c-90db-720592e80295"
      },
      "source": [
        "get_df(\n",
        "    \"\"\"\n",
        "      SELECT \n",
        "        sum(price)*10,\n",
        "        avg(price)\n",
        "      FROM vk.orders\n",
        "      sample 1/10\n",
        "    \"\"\")"
      ],
      "execution_count": null,
      "outputs": [
        {
          "output_type": "execute_result",
          "data": {
            "text/html": [
              "<div>\n",
              "<style scoped>\n",
              "    .dataframe tbody tr th:only-of-type {\n",
              "        vertical-align: middle;\n",
              "    }\n",
              "\n",
              "    .dataframe tbody tr th {\n",
              "        vertical-align: top;\n",
              "    }\n",
              "\n",
              "    .dataframe thead th {\n",
              "        text-align: right;\n",
              "    }\n",
              "</style>\n",
              "<table border=\"1\" class=\"dataframe\">\n",
              "  <thead>\n",
              "    <tr style=\"text-align: right;\">\n",
              "      <th></th>\n",
              "      <th>multiply(sum(price), 10)</th>\n",
              "      <th>avg(price)</th>\n",
              "    </tr>\n",
              "  </thead>\n",
              "  <tbody>\n",
              "    <tr>\n",
              "      <th>0</th>\n",
              "      <td>1.379902e+07</td>\n",
              "      <td>121.931743</td>\n",
              "    </tr>\n",
              "  </tbody>\n",
              "</table>\n",
              "</div>"
            ],
            "text/plain": [
              "   multiply(sum(price), 10)  avg(price)\n",
              "0              1.379902e+07  121.931743"
            ]
          },
          "metadata": {},
          "execution_count": 21
        }
      ]
    },
    {
      "cell_type": "code",
      "metadata": {
        "colab": {
          "base_uri": "https://localhost:8080/",
          "height": 80
        },
        "id": "u8U70F-Xs-Kb",
        "outputId": "f2905890-3e1f-479d-ace0-ef2521a53f55"
      },
      "source": [
        "get_df(\n",
        "    \"\"\"\n",
        "      SELECT \n",
        "        sum(price),\n",
        "        avg(price)\n",
        "      FROM vk.orders\n",
        "      WHERE (cityHash64(price) % 10 = 0)\n",
        "    \"\"\")"
      ],
      "execution_count": null,
      "outputs": [
        {
          "output_type": "execute_result",
          "data": {
            "text/html": [
              "<div>\n",
              "<style scoped>\n",
              "    .dataframe tbody tr th:only-of-type {\n",
              "        vertical-align: middle;\n",
              "    }\n",
              "\n",
              "    .dataframe tbody tr th {\n",
              "        vertical-align: top;\n",
              "    }\n",
              "\n",
              "    .dataframe thead th {\n",
              "        text-align: right;\n",
              "    }\n",
              "</style>\n",
              "<table border=\"1\" class=\"dataframe\">\n",
              "  <thead>\n",
              "    <tr style=\"text-align: right;\">\n",
              "      <th></th>\n",
              "      <th>sum(price)</th>\n",
              "      <th>avg(price)</th>\n",
              "    </tr>\n",
              "  </thead>\n",
              "  <tbody>\n",
              "    <tr>\n",
              "      <th>0</th>\n",
              "      <td>1.416018e+06</td>\n",
              "      <td>119.737676</td>\n",
              "    </tr>\n",
              "  </tbody>\n",
              "</table>\n",
              "</div>"
            ],
            "text/plain": [
              "     sum(price)  avg(price)\n",
              "0  1.416018e+06  119.737676"
            ]
          },
          "metadata": {},
          "execution_count": 25
        }
      ]
    },
    {
      "cell_type": "code",
      "metadata": {
        "id": "gp1XK7xUtiwP"
      },
      "source": [
        ""
      ],
      "execution_count": null,
      "outputs": []
    }
  ]
}